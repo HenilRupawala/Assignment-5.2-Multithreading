{
 "cells": [
  {
   "cell_type": "code",
   "execution_count": 1,
   "id": "a512090f-a8ef-4551-a37e-91d6ed2b6843",
   "metadata": {},
   "outputs": [],
   "source": [
    "# Q1. What is multithreading in python? Why is it used? Name the module used to handle threads in python."
   ]
  },
  {
   "cell_type": "markdown",
   "id": "f3f15d88-c0f8-464d-9d0c-a7f441fed9ea",
   "metadata": {},
   "source": [
    "**Multithreading** in Python refers to the capability of executing multiple threads concurrently within a single process. A thread is a lightweight unit of execution that represents a separate flow of control within a program. Multithreading allows different parts of a program to run concurrently, making it possible to perform multiple tasks simultaneously.\n",
    "\n",
    "**Multithreading** is used to achieve parallelism and improve the efficiency of programs that involve tasks with independent or overlapping execution. By using threads, you can perform tasks concurrently, taking advantage of multiple CPU cores and improving the overall performance of your program. Multithreading is particularly beneficial for tasks that involve I/O operations, such as network requests or file handling, as it allows other threads to continue execution while waiting for I/O operations to complete.\n",
    "\n",
    "The module used to handle threads in Python is called **threading**. It provides a high-level interface for creating and managing threads in Python programs. The threading module allows you to create thread objects, start and stop threads, synchronize their execution, and coordinate communication between threads using locks, conditions, and other synchronization primitives."
   ]
  }
 ],
 "metadata": {
  "kernelspec": {
   "display_name": "Python 3 (ipykernel)",
   "language": "python",
   "name": "python3"
  },
  "language_info": {
   "codemirror_mode": {
    "name": "ipython",
    "version": 3
   },
   "file_extension": ".py",
   "mimetype": "text/x-python",
   "name": "python",
   "nbconvert_exporter": "python",
   "pygments_lexer": "ipython3",
   "version": "3.10.8"
  }
 },
 "nbformat": 4,
 "nbformat_minor": 5
}
