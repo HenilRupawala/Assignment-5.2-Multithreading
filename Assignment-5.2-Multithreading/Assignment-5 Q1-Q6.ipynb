{
 "cells": [
  {
   "cell_type": "code",
   "execution_count": 1,
   "id": "a512090f-a8ef-4551-a37e-91d6ed2b6843",
   "metadata": {},
   "outputs": [],
   "source": [
    "# Q1. What is multithreading in python? Why is it used? Name the module used to handle threads in python."
   ]
  },
  {
   "cell_type": "markdown",
   "id": "f3f15d88-c0f8-464d-9d0c-a7f441fed9ea",
   "metadata": {},
   "source": [
    "**Multithreading** in Python refers to the capability of executing multiple threads concurrently within a single process. A thread is a lightweight unit of execution that represents a separate flow of control within a program. Multithreading allows different parts of a program to run concurrently, making it possible to perform multiple tasks simultaneously.\n",
    "\n",
    "**Multithreading** is used to achieve parallelism and improve the efficiency of programs that involve tasks with independent or overlapping execution. By using threads, you can perform tasks concurrently, taking advantage of multiple CPU cores and improving the overall performance of your program. Multithreading is particularly beneficial for tasks that involve I/O operations, such as network requests or file handling, as it allows other threads to continue execution while waiting for I/O operations to complete.\n",
    "\n",
    "The module used to handle threads in Python is called **threading**. It provides a high-level interface for creating and managing threads in Python programs. The threading module allows you to create thread objects, start and stop threads, synchronize their execution, and coordinate communication between threads using locks, conditions, and other synchronization primitives."
   ]
  },
  {
   "cell_type": "code",
   "execution_count": null,
   "id": "36a5d70b-f7c2-49d0-a965-f720500f822b",
   "metadata": {},
   "outputs": [],
   "source": []
  },
  {
   "cell_type": "markdown",
   "id": "26b4df67-b849-47e2-a50e-fbed16d80d78",
   "metadata": {},
   "source": [
    "### Q2. Why threading module used? Write the use of the following functions:\n",
    "\n",
    "#### 1. activeCount()\n",
    "#### 2. currentThread()\n",
    "#### 3. enumerate()"
   ]
  },
  {
   "cell_type": "markdown",
   "id": "979cef45-88fe-456a-93cc-b85016850ec3",
   "metadata": {},
   "source": [
    "The threading module in Python is used for working with threads, enabling concurrent execution and synchronization of tasks. It provides various functions and classes to create, manage, and control threads in a Python program. Let's explore the use of the following functions from the threading module:\n",
    "\n",
    "#### 1. activeCount():\n",
    "\n",
    "- **activeCount()** is a function in the **threading** module that returns the number of Thread objects currently alive.\n",
    "\n",
    "- It returns an integer value representing the count of active threads.\n",
    "\n",
    "- This function is useful for monitoring the number of active threads in a program and can be used for debugging, performance analysis, or other purposes.\n",
    "\n",
    "- Example usage:"
   ]
  },
  {
   "cell_type": "code",
   "execution_count": 3,
   "id": "193e6af5-0ba8-4bff-86ac-79c38246390b",
   "metadata": {},
   "outputs": [
    {
     "name": "stdout",
     "output_type": "stream",
     "text": [
      "Thread executing...\n",
      "Thread executing...\n",
      "Active threads: 8\n"
     ]
    }
   ],
   "source": [
    "import threading\n",
    "\n",
    "def my_function():\n",
    "    print(\"Thread executing...\")\n",
    "\n",
    "thread1 = threading.Thread(target=my_function)\n",
    "thread2 = threading.Thread(target=my_function)\n",
    "\n",
    "thread1.start()\n",
    "thread2.start()\n",
    "\n",
    "print(\"Active threads:\", threading.active_count())"
   ]
  },
  {
   "cell_type": "markdown",
   "id": "5209e175-307d-4d10-87b5-b4a904347d3c",
   "metadata": {
    "tags": []
   },
   "source": [
    "#### 2. currentThread():\n",
    "\n",
    "- **currentThread()** is a function in the **threading** module that returns the current Thread object corresponding to the caller's thread of execution.\n",
    "\n",
    "- It allows you to obtain a reference to the currently executing thread.\n",
    "\n",
    "- This function is useful for identifying and distinguishing different threads, especially in scenarios where multiple threads are running concurrently and you need to perform specific actions based on the current thread.\n",
    "\n",
    "- Example usage:"
   ]
  },
  {
   "cell_type": "code",
   "execution_count": 24,
   "id": "b487d4af-daa2-412a-a610-92722b0ed853",
   "metadata": {},
   "outputs": [
    {
     "name": "stdout",
     "output_type": "stream",
     "text": [
      "Thread name: Thread-51 (my_function)\n",
      "Thread name: Thread-52 (my_function)\n"
     ]
    }
   ],
   "source": [
    "import threading\n",
    "\n",
    "def my_function():\n",
    "    current_thread = threading.current_thread()\n",
    "    print(f\"Thread name: {current_thread.name}\")\n",
    "\n",
    "thread1 = threading.Thread(target=my_function)\n",
    "thread2 = threading.Thread(target=my_function)\n",
    "\n",
    "thread1.start()  \n",
    "thread2.start()  "
   ]
  },
  {
   "cell_type": "markdown",
   "id": "cf361b3c-905a-4a2e-935e-693fffdd128f",
   "metadata": {},
   "source": [
    "#### 3. enumerate():\n",
    "\n",
    "- **enumerate()** is a function in the **threading** module that returns a list of all currently active Thread objects.\n",
    "\n",
    "- It allows you to retrieve a list of all threads currently alive in the program.\n",
    "\n",
    "- This function is useful for iterating over and inspecting the active threads, gathering information, or performing actions on each thread.\n",
    "\n",
    "- Example usage:"
   ]
  },
  {
   "cell_type": "code",
   "execution_count": 26,
   "id": "92b64db3-0ae2-48ed-ac4f-39e0cf396f69",
   "metadata": {},
   "outputs": [
    {
     "name": "stdout",
     "output_type": "stream",
     "text": [
      "Thread executing...\n",
      "Thread executing...\n",
      "Active threads: 8\n",
      "Thread name: MainThread\n",
      "Thread name: IOPub\n",
      "Thread name: Heartbeat\n",
      "Thread name: Thread-3 (_watch_pipe_fd)\n",
      "Thread name: Thread-4 (_watch_pipe_fd)\n",
      "Thread name: Control\n",
      "Thread name: IPythonHistorySavingThread\n",
      "Thread name: Thread-2\n"
     ]
    }
   ],
   "source": [
    "import threading\n",
    "\n",
    "def my_function():\n",
    "    print(\"Thread executing...\")\n",
    "\n",
    "thread1 = threading.Thread(target=my_function)\n",
    "thread2 = threading.Thread(target=my_function)\n",
    "\n",
    "thread1.start()\n",
    "thread2.start()\n",
    "\n",
    "threads = threading.enumerate()\n",
    "print(\"Active threads:\", len(threads))\n",
    "for thread in threads:\n",
    "    print(f\"Thread name: {thread.name}\")"
   ]
  },
  {
   "cell_type": "code",
   "execution_count": null,
   "id": "9048897e-cc2d-4895-b324-91d27bcad108",
   "metadata": {},
   "outputs": [],
   "source": []
  },
  {
   "cell_type": "markdown",
   "id": "9c51b531-4821-4840-88e2-83e2f27c5e6e",
   "metadata": {},
   "source": [
    "### Q3. Explain the following functions.\n",
    "\n",
    "#### 1. run()\n",
    "#### 2. start()\n",
    "#### 3. join()\n",
    "#### 4. isAlive()"
   ]
  },
  {
   "cell_type": "markdown",
   "id": "cede1578-2c35-47a6-bfb6-5dd783bb025b",
   "metadata": {},
   "source": [
    "#### 1. run():\n",
    "\n",
    "- **run()** is a method of the **Thread** class that represents the entry point for the execution of the thread.\n",
    "\n",
    "- It defines the actions that will be performed when the thread is started.\n",
    "\n",
    "- By default, the **run()** method does nothing, but it can be overridden in a subclass to specify the desired behavior of the thread.\n",
    "\n",
    "- Example usage:"
   ]
  },
  {
   "cell_type": "code",
   "execution_count": 1,
   "id": "15c14368-3946-4130-ac42-318c711cc946",
   "metadata": {},
   "outputs": [
    {
     "name": "stdout",
     "output_type": "stream",
     "text": [
      "Thread executing...\n"
     ]
    }
   ],
   "source": [
    "import threading\n",
    "\n",
    "class MyThread(threading.Thread):\n",
    "    def run(self):\n",
    "        print(\"Thread executing...\")\n",
    "\n",
    "thread = MyThread()\n",
    "thread.run()"
   ]
  },
  {
   "cell_type": "markdown",
   "id": "00608948-bb77-455a-861a-155457c49521",
   "metadata": {},
   "source": [
    "#### 2. start():\n",
    "\n",
    "- **start()** is a method of the **Thread** class that starts the execution of the thread by invoking the **run()** method.\n",
    "\n",
    "- It creates a new thread of execution and runs the code defined in the **run()** method concurrently.\n",
    "\n",
    "- Once **start()** is called, the thread begins its execution independently.\n",
    "\n",
    "- Example usage:"
   ]
  },
  {
   "cell_type": "code",
   "execution_count": 3,
   "id": "7e7ca333-4d92-4831-94cf-52bd1a3ad900",
   "metadata": {},
   "outputs": [
    {
     "name": "stdout",
     "output_type": "stream",
     "text": [
      "Thread executing...\n"
     ]
    }
   ],
   "source": [
    "import threading\n",
    "\n",
    "def my_function():\n",
    "    print(\"Thread executing...\")\n",
    "\n",
    "thread = threading.Thread(target=my_function)\n",
    "thread.start()"
   ]
  },
  {
   "cell_type": "markdown",
   "id": "3ac4ec8d-ea25-46e4-91ee-8e411250f221",
   "metadata": {},
   "source": [
    "#### 3. join():\n",
    "\n",
    "- **join()** is a method of the **Thread** class that blocks the calling thread until the thread on which it is called completes its execution.\n",
    "\n",
    "- It allows one thread to wait for the completion of another thread before proceeding further.\n",
    "\n",
    "- The calling thread will pause its execution and wait until the target thread finishes.\n",
    "\n",
    "- Example usage:"
   ]
  },
  {
   "cell_type": "code",
   "execution_count": 5,
   "id": "104734af-2e8e-466d-bc61-91abab8e985c",
   "metadata": {},
   "outputs": [
    {
     "name": "stdout",
     "output_type": "stream",
     "text": [
      "Do some work in the main thread...\n",
      "Thread executing...\n",
      "Back to the main thread.\n"
     ]
    }
   ],
   "source": [
    "import threading\n",
    "import time\n",
    "\n",
    "def my_function():\n",
    "    time.sleep(2)\n",
    "    print(\"Thread executing...\")\n",
    "\n",
    "thread = threading.Thread(target=my_function)\n",
    "thread.start()\n",
    "\n",
    "print(\"Do some work in the main thread...\")\n",
    "\n",
    "thread.join()\n",
    "\n",
    "print(\"Back to the main thread.\")"
   ]
  },
  {
   "cell_type": "markdown",
   "id": "c2ddbd81-e9d2-4fab-b8a5-c96df6667f95",
   "metadata": {},
   "source": [
    "#### 4. isAlive():\n",
    "\n",
    "- **isAlive()** is a method of the **Thread** class that returns a boolean value indicating whether the thread is currently active and executing.\n",
    "\n",
    "- It checks if the thread is still running or has completed its execution.\n",
    "\n",
    "- If the thread is active, **isAlive()** returns True; otherwise, it returns False.\n",
    "\n",
    "- Example usage:"
   ]
  },
  {
   "cell_type": "code",
   "execution_count": 7,
   "id": "09673f49-6430-4ec7-805b-64eea43d2891",
   "metadata": {},
   "outputs": [
    {
     "name": "stdout",
     "output_type": "stream",
     "text": [
      "Is thread alive? True\n",
      "Thread executing...\n",
      "Is thread alive? False\n"
     ]
    }
   ],
   "source": [
    "import threading\n",
    "import time\n",
    "\n",
    "def my_function():\n",
    "    time.sleep(2)\n",
    "    print(\"Thread executing...\")\n",
    "\n",
    "thread = threading.Thread(target=my_function)\n",
    "thread.start()\n",
    "\n",
    "print(\"Is thread alive?\", thread.is_alive())\n",
    "\n",
    "thread.join()\n",
    "\n",
    "print(\"Is thread alive?\", thread.is_alive())"
   ]
  },
  {
   "cell_type": "code",
   "execution_count": null,
   "id": "6f56a069-0238-4399-b5d5-226d63ed9a52",
   "metadata": {},
   "outputs": [],
   "source": []
  },
  {
   "cell_type": "code",
   "execution_count": 1,
   "id": "3a2552e9-125d-446b-ad70-ad7676d3c50a",
   "metadata": {},
   "outputs": [],
   "source": [
    "# Q4.  Write a python program to create two threads. Thread one must print the list of squares and thread two must print the list of cubes."
   ]
  },
  {
   "cell_type": "code",
   "execution_count": 7,
   "id": "80dae967-b11a-45d8-a8e7-8b4e42352604",
   "metadata": {},
   "outputs": [
    {
     "name": "stdout",
     "output_type": "stream",
     "text": [
      "Square of 1: 1\n",
      "Square of 2: 4\n",
      "Square of 3: 9\n",
      "Square of 4: 16\n",
      "Square of 5: 25\n",
      "Square of 6: 36\n",
      "Square of 7: 49\n",
      "Square of 8: 64\n",
      "Square of 9: 81\n",
      "Square of 10: 100\n",
      "Cube of 1: 1\n",
      "Cube of 2: 8\n",
      "Cube of 3: 27\n",
      "Cube of 4: 64\n",
      "Cube of 5: 125\n",
      "Cube of 6: 216\n",
      "Cube of 7: 343\n",
      "Cube of 8: 512\n",
      "Cube of 9: 729\n",
      "Cube of 10: 1000\n",
      "Threads finished.\n"
     ]
    }
   ],
   "source": [
    "import threading\n",
    "\n",
    "def print_squares():\n",
    "    for i in range(1, 11):\n",
    "        square = i ** 2\n",
    "        print(f\"Square of {i}: {square}\")\n",
    "\n",
    "def print_cubes():\n",
    "    for i in range(1, 11):\n",
    "        cube = i ** 3\n",
    "        print(f\"Cube of {i}: {cube}\")\n",
    "\n",
    "thread1 = threading.Thread(target=print_squares)\n",
    "\n",
    "thread2 = threading.Thread(target=print_cubes)\n",
    "\n",
    "thread1.start()\n",
    "thread2.start()\n",
    "\n",
    "thread1.join()\n",
    "thread2.join()\n",
    "\n",
    "print(\"Threads finished.\")"
   ]
  },
  {
   "cell_type": "code",
   "execution_count": null,
   "id": "bdd7de3b-cde2-4937-a6d4-e5b5feec4d02",
   "metadata": {},
   "outputs": [],
   "source": []
  },
  {
   "cell_type": "code",
   "execution_count": 1,
   "id": "bb922a5d-42b3-40a6-bcb8-0d33d091dcfa",
   "metadata": {},
   "outputs": [],
   "source": [
    "# Q5. State advantages and disadvantages of multithreading."
   ]
  },
  {
   "cell_type": "markdown",
   "id": "dc8b27a4-6d21-4111-bdc6-6efb7b759040",
   "metadata": {},
   "source": [
    "#### Advantages of Multithreading:\n",
    "\n",
    "1. **Concurrency and Parallelism**: Multithreading allows concurrent execution of multiple threads within a single process, enabling parallelism. This can lead to improved performance and responsiveness, especially in tasks that can be executed independently, such as I/O operations or CPU-bound computations.\n",
    "\n",
    "2. **Resource Utilization**: By utilizing multiple threads, you can efficiently utilize system resources, including CPU cores. Multithreading enables better utilization of available processing power and can result in faster execution of tasks.\n",
    "\n",
    "3. **Responsiveness and User Experience**: Multithreading can enhance the responsiveness of applications by offloading time-consuming operations to separate threads. This ensures that the user interface remains responsive even when executing intensive tasks in the background.\n",
    "\n",
    "4. **Modularity and Code Organization**: Multithreading allows you to break down complex tasks into smaller, modular units of work. Each thread can focus on a specific aspect of the task, leading to cleaner and more maintainable code.\n",
    "\n",
    "5. **Asynchronous Operations**: Multithreading facilitates asynchronous programming paradigms by enabling concurrent execution and non-blocking operations. This is particularly useful for tasks involving I/O operations, such as network requests or file handling, where threads can proceed with other work while waiting for I/O completion."
   ]
  },
  {
   "cell_type": "markdown",
   "id": "307428d2-ba55-4f0b-aaa3-d439b7fb260d",
   "metadata": {},
   "source": [
    "#### Disadvantages of Multithreading:\n",
    "\n",
    "1. **Complexity and Difficulty**: Multithreading introduces additional complexity to software development. Managing synchronization, thread communication, and avoiding race conditions can be challenging. Debugging multithreaded code can also be more difficult due to potential concurrency issues.\n",
    "\n",
    "2. **Resource Contentions and Deadlocks**: Improper management of shared resources and synchronization can lead to resource contentions and deadlocks. Deadlocks occur when threads are unable to proceed because they are waiting for each other's resources, resulting in a program freeze.\n",
    "\n",
    "3. **Increased Memory Usage**: Each thread requires its own stack and resources, which can increase memory usage compared to single-threaded applications. The overhead associated with thread creation and context switching can also impact performance.\n",
    "\n",
    "4. **Difficulty in Reproducing and Debugging Issues**: Multithreading can introduce non-deterministic behavior due to race conditions and thread scheduling. This can make it challenging to reproduce and debug issues that occur only under specific timing or interleaving of threads.\n",
    "\n",
    "5. **Lack of Portability**: Multithreaded code may exhibit different behavior on different hardware architectures or operating systems due to variations in thread scheduling and resource management. Writing truly portable multithreaded code can be complex and may require additional considerations."
   ]
  },
  {
   "cell_type": "code",
   "execution_count": null,
   "id": "18ef2db9-d859-4066-98b1-6943de5b9c6a",
   "metadata": {},
   "outputs": [],
   "source": []
  },
  {
   "cell_type": "code",
   "execution_count": 1,
   "id": "628ab59d-1f21-4c85-b462-56b93d1d03db",
   "metadata": {},
   "outputs": [],
   "source": [
    "# Q6. Explain deadlocks and race conditions."
   ]
  },
  {
   "cell_type": "markdown",
   "id": "146915a1-345c-4bce-b7d3-561212a6f52b",
   "metadata": {},
   "source": [
    "**Deadlocks** and **race conditions** are two common concurrency issues that can occur in multithreaded or distributed systems. Let's understand each of them:"
   ]
  },
  {
   "cell_type": "markdown",
   "id": "50ba2e7c-26e5-43c3-9eb5-6a574456da2f",
   "metadata": {},
   "source": [
    "#### Deadlocks: \n",
    "A deadlock is a situation where two or more threads or processes are unable to proceed because each is waiting for the other to release a resource. It results in a state of permanent blocking, where no progress can be made. Deadlocks typically occur due to the following conditions, known as the \"four Coffman conditions\":\n",
    "\n",
    "**1. Mutual Exclusion**: At least one resource is non-sharable, meaning only one thread or process can access it at a time.\n",
    "\n",
    "**2. Hold and Wait**: A thread or process holds one or more resources while waiting to acquire additional resources.\n",
    "\n",
    "**3. No Preemption**: Resources cannot be forcibly taken away from a thread or process; they can only be released voluntarily.\n",
    "\n",
    "**4. Circular Wait**: There exists a circular chain of two or more threads or processes, where each is waiting for a resource held by the next thread or process in the chain.\n",
    "\n",
    "Deadlocks can have severe consequences, leading to system failure or unresponsiveness. To prevent deadlocks, techniques such as resource scheduling, resource allocation strategies, and deadlock detection algorithms are employed."
   ]
  },
  {
   "cell_type": "markdown",
   "id": "6391157f-9de9-4681-bd72-151551c8535b",
   "metadata": {},
   "source": [
    "#### Race Conditions:\n",
    "\n",
    "A race condition occurs when the behavior of a program depends on the relative timing or interleaving of multiple threads or processes. It arises when two or more threads access shared data concurrently, and the final outcome depends on the order of execution. Race conditions can lead to unexpected and erroneous results.\n",
    "\n",
    "Race conditions are typically caused by the lack of proper synchronization and coordination between threads accessing shared resources. They can manifest in various ways, such as data corruption, incorrect calculations, or inconsistent state.\n",
    "\n",
    "To mitigate race conditions, synchronization mechanisms such as locks, semaphores, and mutexes are used to control access to shared resources. By enforcing mutual exclusion or implementing thread-safe data structures, race conditions can be avoided or minimized.\n",
    "\n",
    "It's crucial to address both deadlocks and race conditions in concurrent systems to ensure correct and reliable operation. Proper design, synchronization techniques, and careful consideration of shared resources and their access patterns are essential to mitigate these issues."
   ]
  }
 ],
 "metadata": {
  "kernelspec": {
   "display_name": "Python 3 (ipykernel)",
   "language": "python",
   "name": "python3"
  },
  "language_info": {
   "codemirror_mode": {
    "name": "ipython",
    "version": 3
   },
   "file_extension": ".py",
   "mimetype": "text/x-python",
   "name": "python",
   "nbconvert_exporter": "python",
   "pygments_lexer": "ipython3",
   "version": "3.10.8"
  }
 },
 "nbformat": 4,
 "nbformat_minor": 5
}
