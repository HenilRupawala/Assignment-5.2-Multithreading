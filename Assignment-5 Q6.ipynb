{
 "cells": [
  {
   "cell_type": "code",
   "execution_count": 1,
   "id": "7721cf47-323f-4edd-bbde-28de17f2ddbc",
   "metadata": {},
   "outputs": [],
   "source": [
    "# Q6. Explain deadlocks and race conditions."
   ]
  },
  {
   "cell_type": "markdown",
   "id": "093e48db-ea40-4516-9c9b-eb48b61f19d5",
   "metadata": {},
   "source": [
    "**Deadlocks** and **race conditions** are two common concurrency issues that can occur in multithreaded or distributed systems. Let's understand each of them:"
   ]
  },
  {
   "cell_type": "markdown",
   "id": "bd2037d2-482a-4fb3-b168-576bc99a2292",
   "metadata": {},
   "source": [
    "#### Deadlocks: \n",
    "A deadlock is a situation where two or more threads or processes are unable to proceed because each is waiting for the other to release a resource. It results in a state of permanent blocking, where no progress can be made. Deadlocks typically occur due to the following conditions, known as the \"four Coffman conditions\":\n",
    "\n",
    "**1. Mutual Exclusion**: At least one resource is non-sharable, meaning only one thread or process can access it at a time.\n",
    "\n",
    "**2. Hold and Wait**: A thread or process holds one or more resources while waiting to acquire additional resources.\n",
    "\n",
    "**3. No Preemption**: Resources cannot be forcibly taken away from a thread or process; they can only be released voluntarily.\n",
    "\n",
    "**4. Circular Wait**: There exists a circular chain of two or more threads or processes, where each is waiting for a resource held by the next thread or process in the chain.\n",
    "\n",
    "Deadlocks can have severe consequences, leading to system failure or unresponsiveness. To prevent deadlocks, techniques such as resource scheduling, resource allocation strategies, and deadlock detection algorithms are employed."
   ]
  },
  {
   "cell_type": "markdown",
   "id": "c17f6d42-49cc-4205-b6fc-6f0cbe6c1a2b",
   "metadata": {},
   "source": [
    "#### Race Conditions:\n",
    "\n",
    "A race condition occurs when the behavior of a program depends on the relative timing or interleaving of multiple threads or processes. It arises when two or more threads access shared data concurrently, and the final outcome depends on the order of execution. Race conditions can lead to unexpected and erroneous results.\n",
    "\n",
    "Race conditions are typically caused by the lack of proper synchronization and coordination between threads accessing shared resources. They can manifest in various ways, such as data corruption, incorrect calculations, or inconsistent state.\n",
    "\n",
    "To mitigate race conditions, synchronization mechanisms such as locks, semaphores, and mutexes are used to control access to shared resources. By enforcing mutual exclusion or implementing thread-safe data structures, race conditions can be avoided or minimized.\n",
    "\n",
    "It's crucial to address both deadlocks and race conditions in concurrent systems to ensure correct and reliable operation. Proper design, synchronization techniques, and careful consideration of shared resources and their access patterns are essential to mitigate these issues."
   ]
  }
 ],
 "metadata": {
  "kernelspec": {
   "display_name": "Python 3 (ipykernel)",
   "language": "python",
   "name": "python3"
  },
  "language_info": {
   "codemirror_mode": {
    "name": "ipython",
    "version": 3
   },
   "file_extension": ".py",
   "mimetype": "text/x-python",
   "name": "python",
   "nbconvert_exporter": "python",
   "pygments_lexer": "ipython3",
   "version": "3.10.8"
  }
 },
 "nbformat": 4,
 "nbformat_minor": 5
}
