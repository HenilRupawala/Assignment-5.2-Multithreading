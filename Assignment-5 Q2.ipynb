{
 "cells": [
  {
   "cell_type": "markdown",
   "id": "c129017d-7702-45b9-86fd-b6f76d2971f4",
   "metadata": {},
   "source": [
    "### Q2. Why threading module used? Write the use of the following functions:\n",
    "\n",
    "#### 1. activeCount()\n",
    "#### 2. currentThread()\n",
    "#### 3. enumerate()"
   ]
  },
  {
   "cell_type": "markdown",
   "id": "e643cc5a-6f38-4d7c-9997-b379e3944cec",
   "metadata": {},
   "source": [
    "The threading module in Python is used for working with threads, enabling concurrent execution and synchronization of tasks. It provides various functions and classes to create, manage, and control threads in a Python program. Let's explore the use of the following functions from the threading module:\n",
    "\n",
    "#### 1. activeCount():\n",
    "\n",
    "- **activeCount()** is a function in the **threading** module that returns the number of Thread objects currently alive.\n",
    "\n",
    "- It returns an integer value representing the count of active threads.\n",
    "\n",
    "- This function is useful for monitoring the number of active threads in a program and can be used for debugging, performance analysis, or other purposes.\n",
    "\n",
    "- Example usage:"
   ]
  },
  {
   "cell_type": "code",
   "execution_count": 3,
   "id": "0f2e6175-6594-40da-b318-a1c20e8eb1ad",
   "metadata": {},
   "outputs": [
    {
     "name": "stdout",
     "output_type": "stream",
     "text": [
      "Thread executing...\n",
      "Thread executing...\n",
      "Active threads: 8\n"
     ]
    }
   ],
   "source": [
    "import threading\n",
    "\n",
    "def my_function():\n",
    "    print(\"Thread executing...\")\n",
    "\n",
    "thread1 = threading.Thread(target=my_function)\n",
    "thread2 = threading.Thread(target=my_function)\n",
    "\n",
    "thread1.start()\n",
    "thread2.start()\n",
    "\n",
    "print(\"Active threads:\", threading.active_count())"
   ]
  },
  {
   "cell_type": "markdown",
   "id": "28481f54-6e21-45cd-b401-e2ea00ac446e",
   "metadata": {
    "tags": []
   },
   "source": [
    "#### 2. currentThread():\n",
    "\n",
    "- **currentThread()** is a function in the **threading** module that returns the current Thread object corresponding to the caller's thread of execution.\n",
    "\n",
    "- It allows you to obtain a reference to the currently executing thread.\n",
    "\n",
    "- This function is useful for identifying and distinguishing different threads, especially in scenarios where multiple threads are running concurrently and you need to perform specific actions based on the current thread.\n",
    "\n",
    "- Example usage:"
   ]
  },
  {
   "cell_type": "code",
   "execution_count": 24,
   "id": "2e02950c-5b83-4401-bfde-6d77bc77ac81",
   "metadata": {},
   "outputs": [
    {
     "name": "stdout",
     "output_type": "stream",
     "text": [
      "Thread name: Thread-51 (my_function)\n",
      "Thread name: Thread-52 (my_function)\n"
     ]
    }
   ],
   "source": [
    "import threading\n",
    "\n",
    "def my_function():\n",
    "    current_thread = threading.current_thread()\n",
    "    print(f\"Thread name: {current_thread.name}\")\n",
    "\n",
    "thread1 = threading.Thread(target=my_function)\n",
    "thread2 = threading.Thread(target=my_function)\n",
    "\n",
    "thread1.start()  \n",
    "thread2.start()  "
   ]
  },
  {
   "cell_type": "markdown",
   "id": "430d34e7-b052-4e30-9732-10374bf40c7c",
   "metadata": {},
   "source": [
    "#### 3. enumerate():\n",
    "\n",
    "- **enumerate()** is a function in the **threading** module that returns a list of all currently active Thread objects.\n",
    "\n",
    "- It allows you to retrieve a list of all threads currently alive in the program.\n",
    "\n",
    "- This function is useful for iterating over and inspecting the active threads, gathering information, or performing actions on each thread.\n",
    "\n",
    "- Example usage:"
   ]
  },
  {
   "cell_type": "code",
   "execution_count": 26,
   "id": "5e140aae-d39a-4e41-a11c-53f6661c790b",
   "metadata": {},
   "outputs": [
    {
     "name": "stdout",
     "output_type": "stream",
     "text": [
      "Thread executing...\n",
      "Thread executing...\n",
      "Active threads: 8\n",
      "Thread name: MainThread\n",
      "Thread name: IOPub\n",
      "Thread name: Heartbeat\n",
      "Thread name: Thread-3 (_watch_pipe_fd)\n",
      "Thread name: Thread-4 (_watch_pipe_fd)\n",
      "Thread name: Control\n",
      "Thread name: IPythonHistorySavingThread\n",
      "Thread name: Thread-2\n"
     ]
    }
   ],
   "source": [
    "import threading\n",
    "\n",
    "def my_function():\n",
    "    print(\"Thread executing...\")\n",
    "\n",
    "thread1 = threading.Thread(target=my_function)\n",
    "thread2 = threading.Thread(target=my_function)\n",
    "\n",
    "thread1.start()\n",
    "thread2.start()\n",
    "\n",
    "threads = threading.enumerate()\n",
    "print(\"Active threads:\", len(threads))\n",
    "for thread in threads:\n",
    "    print(f\"Thread name: {thread.name}\")"
   ]
  }
 ],
 "metadata": {
  "kernelspec": {
   "display_name": "Python 3 (ipykernel)",
   "language": "python",
   "name": "python3"
  },
  "language_info": {
   "codemirror_mode": {
    "name": "ipython",
    "version": 3
   },
   "file_extension": ".py",
   "mimetype": "text/x-python",
   "name": "python",
   "nbconvert_exporter": "python",
   "pygments_lexer": "ipython3",
   "version": "3.10.8"
  }
 },
 "nbformat": 4,
 "nbformat_minor": 5
}
