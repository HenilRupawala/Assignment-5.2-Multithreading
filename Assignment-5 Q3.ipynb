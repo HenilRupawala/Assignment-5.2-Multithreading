{
 "cells": [
  {
   "cell_type": "markdown",
   "id": "49074052-c807-4299-9b84-b484562e0d7b",
   "metadata": {},
   "source": [
    "### Q3. Explain the following functions.\n",
    "\n",
    "#### 1. run()\n",
    "#### 2. start()\n",
    "#### 3. join()\n",
    "#### 4. isAlive()"
   ]
  },
  {
   "cell_type": "markdown",
   "id": "698588eb-e890-4757-8c63-0b6ffd5c7964",
   "metadata": {},
   "source": [
    "#### 1. run():\n",
    "\n",
    "- **run()** is a method of the **Thread** class that represents the entry point for the execution of the thread.\n",
    "\n",
    "- It defines the actions that will be performed when the thread is started.\n",
    "\n",
    "- By default, the **run()** method does nothing, but it can be overridden in a subclass to specify the desired behavior of the thread.\n",
    "\n",
    "- Example usage:"
   ]
  },
  {
   "cell_type": "code",
   "execution_count": 1,
   "id": "679f977f-6193-4804-8e3f-b4d6c08d92bc",
   "metadata": {},
   "outputs": [
    {
     "name": "stdout",
     "output_type": "stream",
     "text": [
      "Thread executing...\n"
     ]
    }
   ],
   "source": [
    "import threading\n",
    "\n",
    "class MyThread(threading.Thread):\n",
    "    def run(self):\n",
    "        print(\"Thread executing...\")\n",
    "\n",
    "thread = MyThread()\n",
    "thread.run()"
   ]
  },
  {
   "cell_type": "markdown",
   "id": "6a5d15ed-35c3-4c88-98d8-387766093269",
   "metadata": {},
   "source": [
    "#### 2. start():\n",
    "\n",
    "- **start()** is a method of the **Thread** class that starts the execution of the thread by invoking the **run()** method.\n",
    "\n",
    "- It creates a new thread of execution and runs the code defined in the **run()** method concurrently.\n",
    "\n",
    "- Once **start()** is called, the thread begins its execution independently.\n",
    "\n",
    "- Example usage:"
   ]
  },
  {
   "cell_type": "code",
   "execution_count": 3,
   "id": "b8f0c7eb-78bb-448f-bb4f-f319d205db52",
   "metadata": {},
   "outputs": [
    {
     "name": "stdout",
     "output_type": "stream",
     "text": [
      "Thread executing...\n"
     ]
    }
   ],
   "source": [
    "import threading\n",
    "\n",
    "def my_function():\n",
    "    print(\"Thread executing...\")\n",
    "\n",
    "thread = threading.Thread(target=my_function)\n",
    "thread.start()"
   ]
  },
  {
   "cell_type": "markdown",
   "id": "42ccbf7e-e3b7-489e-8c7b-1321a3220697",
   "metadata": {},
   "source": [
    "#### 3. join():\n",
    "\n",
    "- **join()** is a method of the **Thread** class that blocks the calling thread until the thread on which it is called completes its execution.\n",
    "\n",
    "- It allows one thread to wait for the completion of another thread before proceeding further.\n",
    "\n",
    "- The calling thread will pause its execution and wait until the target thread finishes.\n",
    "\n",
    "- Example usage:"
   ]
  },
  {
   "cell_type": "code",
   "execution_count": 5,
   "id": "f3391835-33b5-4182-8359-369c04a75c7d",
   "metadata": {},
   "outputs": [
    {
     "name": "stdout",
     "output_type": "stream",
     "text": [
      "Do some work in the main thread...\n",
      "Thread executing...\n",
      "Back to the main thread.\n"
     ]
    }
   ],
   "source": [
    "import threading\n",
    "import time\n",
    "\n",
    "def my_function():\n",
    "    time.sleep(2)\n",
    "    print(\"Thread executing...\")\n",
    "\n",
    "thread = threading.Thread(target=my_function)\n",
    "thread.start()\n",
    "\n",
    "print(\"Do some work in the main thread...\")\n",
    "\n",
    "thread.join()\n",
    "\n",
    "print(\"Back to the main thread.\")"
   ]
  },
  {
   "cell_type": "markdown",
   "id": "1a1ba057-604e-4964-8295-4a0e7186c01e",
   "metadata": {},
   "source": [
    "#### 4. isAlive():\n",
    "\n",
    "- **isAlive()** is a method of the **Thread** class that returns a boolean value indicating whether the thread is currently active and executing.\n",
    "\n",
    "- It checks if the thread is still running or has completed its execution.\n",
    "\n",
    "- If the thread is active, **isAlive()** returns True; otherwise, it returns False.\n",
    "\n",
    "- Example usage:"
   ]
  },
  {
   "cell_type": "code",
   "execution_count": 7,
   "id": "26fac747-9f8d-4335-8893-9722946619fd",
   "metadata": {},
   "outputs": [
    {
     "name": "stdout",
     "output_type": "stream",
     "text": [
      "Is thread alive? True\n",
      "Thread executing...\n",
      "Is thread alive? False\n"
     ]
    }
   ],
   "source": [
    "import threading\n",
    "import time\n",
    "\n",
    "def my_function():\n",
    "    time.sleep(2)\n",
    "    print(\"Thread executing...\")\n",
    "\n",
    "thread = threading.Thread(target=my_function)\n",
    "thread.start()\n",
    "\n",
    "print(\"Is thread alive?\", thread.is_alive())\n",
    "\n",
    "thread.join()\n",
    "\n",
    "print(\"Is thread alive?\", thread.is_alive())"
   ]
  }
 ],
 "metadata": {
  "kernelspec": {
   "display_name": "Python 3 (ipykernel)",
   "language": "python",
   "name": "python3"
  },
  "language_info": {
   "codemirror_mode": {
    "name": "ipython",
    "version": 3
   },
   "file_extension": ".py",
   "mimetype": "text/x-python",
   "name": "python",
   "nbconvert_exporter": "python",
   "pygments_lexer": "ipython3",
   "version": "3.10.8"
  }
 },
 "nbformat": 4,
 "nbformat_minor": 5
}
